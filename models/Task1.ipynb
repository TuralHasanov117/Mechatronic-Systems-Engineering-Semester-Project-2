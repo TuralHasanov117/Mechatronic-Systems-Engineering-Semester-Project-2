{
  "nbformat": 4,
  "nbformat_minor": 0,
  "metadata": {
    "colab": {
      "provenance": [],
      "gpuType": "T4"
    },
    "kernelspec": {
      "name": "python3",
      "display_name": "Python 3"
    },
    "language_info": {
      "name": "python"
    },
    "accelerator": "GPU"
  },
  "cells": [
    {
      "cell_type": "markdown",
      "source": [
        "**Task 1**"
      ],
      "metadata": {
        "id": "Dh4hdMgK5JRm"
      }
    },
    {
      "cell_type": "code",
      "execution_count": 38,
      "metadata": {
        "id": "8FiJx9BJ0DB4"
      },
      "outputs": [],
      "source": [
        "import torch\n",
        "import torch.optim as optim\n",
        "import torch.nn.functional as F\n",
        "import torchvision\n",
        "import torchvision.datasets as datasets\n",
        "import torchvision.models as models\n",
        "import torchvision.transforms as transforms\n",
        "import glob\n",
        "import PIL.Image\n",
        "import os\n",
        "import numpy as np\n",
        "from torchsummary import summary\n",
        "from torchviz import make_dot\n",
        "from google.colab import drive\n",
        "import matplotlib.pyplot as plt"
      ]
    },
    {
      "cell_type": "code",
      "source": [
        "drive.mount('/content/drive')"
      ],
      "metadata": {
        "colab": {
          "base_uri": "https://localhost:8080/"
        },
        "id": "m_NRwQMJa3nB",
        "outputId": "71dc7344-e1bb-4c0a-c789-17f45d71999c"
      },
      "execution_count": 27,
      "outputs": [
        {
          "output_type": "stream",
          "name": "stdout",
          "text": [
            "Drive already mounted at /content/drive; to attempt to forcibly remount, call drive.mount(\"/content/drive\", force_remount=True).\n"
          ]
        }
      ]
    },
    {
      "cell_type": "code",
      "source": [
        "data_path = '/content/drive/MyDrive/dataset/apex'"
      ],
      "metadata": {
        "id": "is0Bc9Uh3RDX"
      },
      "execution_count": 28,
      "outputs": []
    },
    {
      "cell_type": "markdown",
      "source": [
        "Feature Extraction"
      ],
      "metadata": {
        "id": "lYqULAgz5WlN"
      }
    },
    {
      "cell_type": "code",
      "source": [
        "def get_x(path, width):\n",
        "    \"Gets the x value from the image filename\"\n",
        "    return (float(int(path.split(\"_\")[0])) - width / 2) / (width / 2)\n",
        "\n",
        "\n",
        "def get_y(path, height):\n",
        "    \"Gets the y value from the image filename\"\n",
        "    return (float(int(path.split(\"_\")[1])) - height / 2) / (height / 2)"
      ],
      "metadata": {
        "id": "ehCxThtp5W7P"
      },
      "execution_count": 29,
      "outputs": []
    },
    {
      "cell_type": "markdown",
      "source": [
        "Data Augmentation"
      ],
      "metadata": {
        "id": "1daLh7yCYhpf"
      }
    },
    {
      "cell_type": "code",
      "source": [
        "class XYDataset(torch.utils.data.Dataset):\n",
        "\n",
        "    def __init__(self, directory, random_hflips=False):\n",
        "        self.directory = directory\n",
        "        self.random_hflips = random_hflips\n",
        "        self.image_paths = glob.glob(os.path.join(self.directory, '*.jpg'))\n",
        "        self.color_jitter = transforms.ColorJitter(0.3, 0.3, 0.3, 0.3)\n",
        "\n",
        "    def __len__(self):\n",
        "        return len(self.image_paths)\n",
        "\n",
        "    def __getitem__(self, idx):\n",
        "        image_path = self.image_paths[idx]\n",
        "\n",
        "        image = PIL.Image.open(image_path)\n",
        "        width, height = image.size\n",
        "        x = float(get_x(os.path.basename(image_path), width))\n",
        "        y = float(get_y(os.path.basename(image_path), height))\n",
        "\n",
        "        if float(np.random.rand(1)) > 0.5:\n",
        "            image = transforms.functional.hflip(image)\n",
        "            x = -x\n",
        "\n",
        "        image = self.color_jitter(image)\n",
        "        image = transforms.functional.resize(image, (224, 224))\n",
        "        image = transforms.functional.to_tensor(image)\n",
        "        image = image.numpy()[::-1].copy()\n",
        "        image = torch.from_numpy(image)\n",
        "        image = transforms.functional.normalize(image, [0.485, 0.456, 0.406], [0.229, 0.224, 0.225])\n",
        "\n",
        "        return image, torch.tensor([x, y]).float()"
      ],
      "metadata": {
        "id": "EFORIffLYhPU"
      },
      "execution_count": 30,
      "outputs": []
    },
    {
      "cell_type": "markdown",
      "source": [
        "Train-Test Split"
      ],
      "metadata": {
        "id": "u1RDmwHAGNK5"
      }
    },
    {
      "cell_type": "code",
      "source": [
        "dataset = XYDataset(data_path, random_hflips=False)\n",
        "\n",
        "\n",
        "test_percent = 0.1\n",
        "num_test = int(test_percent * len(dataset))\n",
        "train_dataset, test_dataset = torch.utils.data.random_split(dataset, [len(dataset) - num_test, num_test])"
      ],
      "metadata": {
        "id": "I7B3WyNz5h3A"
      },
      "execution_count": 31,
      "outputs": []
    },
    {
      "cell_type": "code",
      "source": [
        "train_loader = torch.utils.data.DataLoader(\n",
        "    train_dataset,\n",
        "    batch_size=8,\n",
        "    shuffle=True,\n",
        "    num_workers=0\n",
        ")\n",
        "\n",
        "test_loader = torch.utils.data.DataLoader(\n",
        "    test_dataset,\n",
        "    batch_size=8,\n",
        "    shuffle=True,\n",
        "    num_workers=0\n",
        ")"
      ],
      "metadata": {
        "id": "JrbyYJiTGMlP"
      },
      "execution_count": 32,
      "outputs": []
    },
    {
      "cell_type": "markdown",
      "source": [
        "Load Base Model"
      ],
      "metadata": {
        "id": "vq7iyoJu5Shc"
      }
    },
    {
      "cell_type": "code",
      "source": [
        "model = models.resnet18(weights='ResNet18_Weights.DEFAULT')"
      ],
      "metadata": {
        "id": "TCxtDwUQ1XVk"
      },
      "execution_count": 33,
      "outputs": []
    },
    {
      "cell_type": "code",
      "source": [
        "model.fc = torch.nn.Linear(512, 2)\n",
        "device = torch.device('cuda')\n",
        "model = model.to(device)\n",
        "\n",
        "NUM_EPOCHS = 50\n",
        "BEST_MODEL_PATH = '/best_steering_model_xy.pth'\n",
        "best_loss = 1e9"
      ],
      "metadata": {
        "id": "HqVRjIyHGfi0"
      },
      "execution_count": 34,
      "outputs": []
    },
    {
      "cell_type": "markdown",
      "source": [
        "Model Summary"
      ],
      "metadata": {
        "id": "F5bA9xGYQBi6"
      }
    },
    {
      "cell_type": "code",
      "source": [
        "class ModifiedResNet18(torch.nn.Module):\n",
        "    def __init__(self):\n",
        "        super(ModifiedResNet18, self).__init__()\n",
        "        self.fc = torch.nn.Linear(512, 2)\n",
        "\n",
        "    def forward(self, x):\n",
        "        return self.fc(x)\n",
        "\n",
        "modified_model = ModifiedResNet18()\n",
        "device = torch.device('cuda' if torch.cuda.is_available() else 'cpu')\n",
        "modified_model = modified_model.to(device)\n",
        "dummy_input = torch.randn(1, 512).to(device)\n",
        "output = modified_model(dummy_input)\n",
        "graph = make_dot(output, params=dict(modified_model.named_parameters()))\n",
        "graph_path = \"/mnt/data/modified_resnet18_fc_graph.jpg\"\n",
        "graph.render(graph_path[:-4], format=\"jpg\")"
      ],
      "metadata": {
        "colab": {
          "base_uri": "https://localhost:8080/",
          "height": 36
        },
        "id": "ekRR2LbxNZu2",
        "outputId": "9a3c1207-921a-4ce2-e773-c98bad338942"
      },
      "execution_count": 35,
      "outputs": [
        {
          "output_type": "execute_result",
          "data": {
            "text/plain": [
              "'/mnt/data/modified_resnet18_fc_graph.jpg'"
            ],
            "application/vnd.google.colaboratory.intrinsic+json": {
              "type": "string"
            }
          },
          "metadata": {},
          "execution_count": 35
        }
      ]
    },
    {
      "cell_type": "code",
      "source": [
        "optimizer = torch.optim.SGD(model.parameters(), lr=1e-3, momentum=0.9, weight_decay=0.0005)\n",
        "\n",
        "train_losses = []\n",
        "test_losses = []\n",
        "\n",
        "for epoch in range(NUM_EPOCHS):\n",
        "\n",
        "    model.train()\n",
        "    train_loss = 0.0\n",
        "    for images, labels in iter(train_loader):\n",
        "        images = images.to(device)\n",
        "        labels = labels.to(device)\n",
        "        optimizer.zero_grad()\n",
        "        outputs = model(images)\n",
        "        loss = F.mse_loss(outputs, labels)\n",
        "        train_loss += float(loss)\n",
        "        loss.backward()\n",
        "        optimizer.step()\n",
        "    train_loss /= len(train_loader)\n",
        "    train_losses.append(train_loss)\n",
        "\n",
        "    model.eval().to(device)\n",
        "    test_loss = 0.0\n",
        "    for images, labels in iter(test_loader):\n",
        "        images = images.to(device)\n",
        "        labels = labels.to(device)\n",
        "        outputs = model(images)\n",
        "        loss = F.mse_loss(outputs, labels)\n",
        "        test_loss += float(loss)\n",
        "    test_loss /= len(test_loader)\n",
        "    test_losses.append(test_loss)\n",
        "\n",
        "    print(f'Epoch: {epoch+1}, Train Loss: {train_loss:.6f}, Test Loss: {test_loss:.6f}')\n",
        "    if test_loss < best_loss:\n",
        "        torch.save(model.state_dict(), BEST_MODEL_PATH)\n",
        "        best_loss = test_loss"
      ],
      "metadata": {
        "colab": {
          "base_uri": "https://localhost:8080/"
        },
        "id": "mQyIcTn7J6J0",
        "outputId": "3241d24d-b87b-4d5f-b5ad-b5560c10f8ee"
      },
      "execution_count": 37,
      "outputs": [
        {
          "output_type": "stream",
          "name": "stderr",
          "text": [
            "<ipython-input-30-926b25b0c33b>:20: DeprecationWarning: Conversion of an array with ndim > 0 to a scalar is deprecated, and will error in future. Ensure you extract a single element from your array before performing this operation. (Deprecated NumPy 1.25.)\n",
            "  if float(np.random.rand(1)) > 0.5:\n"
          ]
        },
        {
          "output_type": "stream",
          "name": "stdout",
          "text": [
            "Epoch: 1, Train Loss: 0.055508, Test Loss: 0.038045\n",
            "Epoch: 2, Train Loss: 0.045131, Test Loss: 0.052121\n",
            "Epoch: 3, Train Loss: 0.037453, Test Loss: 0.021024\n",
            "Epoch: 4, Train Loss: 0.032333, Test Loss: 0.026198\n",
            "Epoch: 5, Train Loss: 0.037509, Test Loss: 0.021884\n",
            "Epoch: 6, Train Loss: 0.029600, Test Loss: 0.033824\n",
            "Epoch: 7, Train Loss: 0.025152, Test Loss: 0.018623\n",
            "Epoch: 8, Train Loss: 0.028492, Test Loss: 0.033237\n",
            "Epoch: 9, Train Loss: 0.026582, Test Loss: 0.024078\n",
            "Epoch: 10, Train Loss: 0.024432, Test Loss: 0.022291\n",
            "Epoch: 11, Train Loss: 0.022241, Test Loss: 0.024562\n",
            "Epoch: 12, Train Loss: 0.021378, Test Loss: 0.020160\n",
            "Epoch: 13, Train Loss: 0.021462, Test Loss: 0.020821\n",
            "Epoch: 14, Train Loss: 0.023700, Test Loss: 0.034325\n",
            "Epoch: 15, Train Loss: 0.016651, Test Loss: 0.022159\n",
            "Epoch: 16, Train Loss: 0.021348, Test Loss: 0.027624\n",
            "Epoch: 17, Train Loss: 0.015595, Test Loss: 0.027873\n",
            "Epoch: 18, Train Loss: 0.016861, Test Loss: 0.024292\n",
            "Epoch: 19, Train Loss: 0.016549, Test Loss: 0.016231\n",
            "Epoch: 20, Train Loss: 0.016870, Test Loss: 0.020366\n",
            "Epoch: 21, Train Loss: 0.015195, Test Loss: 0.015309\n",
            "Epoch: 22, Train Loss: 0.016026, Test Loss: 0.017642\n",
            "Epoch: 23, Train Loss: 0.012866, Test Loss: 0.016012\n",
            "Epoch: 24, Train Loss: 0.014432, Test Loss: 0.018909\n",
            "Epoch: 25, Train Loss: 0.016579, Test Loss: 0.017957\n",
            "Epoch: 26, Train Loss: 0.016470, Test Loss: 0.016971\n",
            "Epoch: 27, Train Loss: 0.015757, Test Loss: 0.019953\n",
            "Epoch: 28, Train Loss: 0.013081, Test Loss: 0.018670\n",
            "Epoch: 29, Train Loss: 0.012100, Test Loss: 0.027506\n",
            "Epoch: 30, Train Loss: 0.011858, Test Loss: 0.025258\n",
            "Epoch: 31, Train Loss: 0.011275, Test Loss: 0.020748\n",
            "Epoch: 32, Train Loss: 0.011120, Test Loss: 0.016390\n",
            "Epoch: 33, Train Loss: 0.011289, Test Loss: 0.046432\n",
            "Epoch: 34, Train Loss: 0.012356, Test Loss: 0.016595\n",
            "Epoch: 35, Train Loss: 0.015125, Test Loss: 0.018574\n",
            "Epoch: 36, Train Loss: 0.011505, Test Loss: 0.016024\n",
            "Epoch: 37, Train Loss: 0.010372, Test Loss: 0.016327\n",
            "Epoch: 38, Train Loss: 0.010243, Test Loss: 0.016331\n",
            "Epoch: 39, Train Loss: 0.010598, Test Loss: 0.014527\n",
            "Epoch: 40, Train Loss: 0.010230, Test Loss: 0.014888\n",
            "Epoch: 41, Train Loss: 0.010363, Test Loss: 0.015582\n",
            "Epoch: 42, Train Loss: 0.010432, Test Loss: 0.016028\n",
            "Epoch: 43, Train Loss: 0.009710, Test Loss: 0.015622\n",
            "Epoch: 44, Train Loss: 0.010460, Test Loss: 0.016327\n",
            "Epoch: 45, Train Loss: 0.009825, Test Loss: 0.013867\n",
            "Epoch: 46, Train Loss: 0.010191, Test Loss: 0.018454\n",
            "Epoch: 47, Train Loss: 0.009901, Test Loss: 0.013215\n",
            "Epoch: 48, Train Loss: 0.008403, Test Loss: 0.012998\n",
            "Epoch: 49, Train Loss: 0.008516, Test Loss: 0.014011\n",
            "Epoch: 50, Train Loss: 0.009589, Test Loss: 0.014311\n"
          ]
        }
      ]
    },
    {
      "cell_type": "code",
      "source": [
        "plt.figure(figsize=(10, 5))\n",
        "plt.plot(range(1, NUM_EPOCHS + 1), train_losses, label='Train Loss')\n",
        "plt.plot(range(1, NUM_EPOCHS + 1), test_losses, label='Test Loss')\n",
        "plt.xlabel('Epoch')\n",
        "plt.ylabel('Loss')\n",
        "plt.title('Train and Test Loss per Epoch')\n",
        "plt.legend()\n",
        "plt.grid(True)\n",
        "plt.show()"
      ],
      "metadata": {
        "colab": {
          "base_uri": "https://localhost:8080/",
          "height": 487
        },
        "id": "JDtJ4t-iQPZD",
        "outputId": "cddf26df-b80a-4463-fc1d-546bf5ac21fd"
      },
      "execution_count": 39,
      "outputs": [
        {
          "output_type": "display_data",
          "data": {
            "text/plain": [
              "<Figure size 1000x500 with 1 Axes>"
            ],
            "image/png": "[encoded data removed]"
          },
          "metadata": {}
        }
      ]
    }
  ]
}