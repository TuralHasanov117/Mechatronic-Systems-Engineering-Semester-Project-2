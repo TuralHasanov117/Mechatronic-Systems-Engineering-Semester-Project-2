{
  "nbformat": 4,
  "nbformat_minor": 0,
  "metadata": {
    "colab": {
      "provenance": [],
      "gpuType": "T4"
    },
    "kernelspec": {
      "name": "python3",
      "display_name": "Python 3"
    },
    "language_info": {
      "name": "python"
    },
    "accelerator": "GPU"
  },
  "cells": [
    {
      "cell_type": "markdown",
      "source": [
        "**Task 2**"
      ],
      "metadata": {
        "id": "0cm4Xu6fL6Dj"
      }
    },
    {
      "cell_type": "code",
      "execution_count": 363,
      "metadata": {
        "id": "yr2uxbZmKqQR"
      },
      "outputs": [],
      "source": [
        "from google.colab import drive\n",
        "import numpy as np\n",
        "import pandas as pd\n",
        "import os\n",
        "import glob\n",
        "import cv2\n",
        "from sklearn.model_selection import train_test_split\n",
        "from sklearn.metrics import accuracy_score, f1_score, precision_score, recall_score\n",
        "import torch\n",
        "import torch.nn as nn\n",
        "import torch.optim as optim\n",
        "import torchvision.models as models\n",
        "from torch.utils.data import DataLoader, TensorDataset\n",
        "from torchviz import make_dot\n",
        "from torch.optim.lr_scheduler import ReduceLROnPlateau\n",
        "import matplotlib.pyplot as plt"
      ]
    },
    {
      "cell_type": "markdown",
      "source": [
        "Check Cuda Availability"
      ],
      "metadata": {
        "id": "5bAVqEDJLwpP"
      }
    },
    {
      "cell_type": "code",
      "source": [
        "torch.cuda.is_available()\n",
        "device = torch.device(\"cuda:0\" if torch.cuda.is_available() else \"cpu\")\n",
        "print(device)"
      ],
      "metadata": {
        "id": "-BYdL8L5LwFM",
        "colab": {
          "base_uri": "https://localhost:8080/"
        },
        "outputId": "95e5a18a-cac0-4b6d-f79b-abb01b9012d3"
      },
      "execution_count": 364,
      "outputs": [
        {
          "output_type": "stream",
          "name": "stdout",
          "text": [
            "cuda:0\n"
          ]
        }
      ]
    },
    {
      "cell_type": "markdown",
      "source": [
        "Mount google drive"
      ],
      "metadata": {
        "id": "xn_JbiEcL2B4"
      }
    },
    {
      "cell_type": "code",
      "source": [
        "drive.mount('/content/drive')"
      ],
      "metadata": {
        "id": "5p2SZm6SL3hY",
        "colab": {
          "base_uri": "https://localhost:8080/"
        },
        "outputId": "343f1c83-b552-4e76-d3fa-8e00e453e86f"
      },
      "execution_count": 365,
      "outputs": [
        {
          "output_type": "stream",
          "name": "stdout",
          "text": [
            "Drive already mounted at /content/drive; to attempt to forcibly remount, call drive.mount(\"/content/drive\", force_remount=True).\n"
          ]
        }
      ]
    },
    {
      "cell_type": "markdown",
      "source": [
        "Define data path"
      ],
      "metadata": {
        "id": "9itZJoP9MDlY"
      }
    },
    {
      "cell_type": "code",
      "source": [
        "class_priority_path = '/content/drive/My Drive/data/Priority'\n",
        "class_stop_path = '/content/drive/My Drive/data/Stop'"
      ],
      "metadata": {
        "id": "lCaB6lJ2MEbk"
      },
      "execution_count": 366,
      "outputs": []
    },
    {
      "cell_type": "code",
      "source": [
        "priority_images = [image for image in os.listdir(class_priority_path) if image.endswith('.jpg')]\n",
        "stop_images = [image for image in os.listdir(class_stop_path) if image.endswith('.jpg')]\n",
        "labeled_stop_images_full_path = [(os.path.join(class_stop_path, image), 0) for image in stop_images]\n",
        "labeled_priority_images_full_path = [(os.path.join(class_priority_path, image), 1) for image in priority_images]\n",
        "data = labeled_priority_images_full_path + labeled_stop_images_full_path"
      ],
      "metadata": {
        "id": "OJ4iCWMqSK8N"
      },
      "execution_count": 367,
      "outputs": []
    },
    {
      "cell_type": "markdown",
      "source": [
        "Load Data to x and y (features and label)"
      ],
      "metadata": {
        "id": "bWBD7JnOMLgY"
      }
    },
    {
      "cell_type": "code",
      "source": [
        "X_array = []\n",
        "y_array = []\n",
        "\n",
        "for item in data:\n",
        "  x_image = cv2.imread(item[0])\n",
        "  x_image = cv2.resize(x_image, (224, 224))\n",
        "  X_array.append(x_image)\n",
        "  y_image = item[1]\n",
        "  y_array.append(y_image)\n",
        "\n",
        "X_array = np.array(X_array)\n",
        "y_array = np.array(y_array)"
      ],
      "metadata": {
        "id": "Uh6WS55eMe4S"
      },
      "execution_count": 368,
      "outputs": []
    },
    {
      "cell_type": "markdown",
      "source": [
        "Data Augmentation"
      ],
      "metadata": {
        "id": "-3JGl8aRRR4Q"
      }
    },
    {
      "cell_type": "code",
      "source": [
        "def data_augmentation(image):\n",
        "\n",
        "  if np.random.rand(1) > 0.5:\n",
        "      image = cv2.flip(image, 1)\n",
        "\n",
        "  if np.random.rand(1) > 0.5:\n",
        "      angle = np.random.randint(-15, 15)\n",
        "      M = cv2.getRotationMatrix2D((112, 112), angle, 1)\n",
        "      image = cv2.warpAffine(image, M, (224, 224))\n",
        "\n",
        "  if np.random.rand(1) > 0.5:\n",
        "      zoom_factor = np.random.uniform(0.9, 1.1)\n",
        "      new_size = int(224 * zoom_factor)\n",
        "      image = cv2.resize(image, (new_size, new_size))\n",
        "      if zoom_factor < 1:\n",
        "          pad = (224 - new_size) // 2\n",
        "          image = cv2.copyMakeBorder(image, pad, pad, pad, pad, cv2.BORDER_CONSTANT, value=[0, 0, 0])\n",
        "      else:\n",
        "          crop = (new_size - 224) // 2\n",
        "          image = image[crop:crop+224, crop:crop+224]\n",
        "\n",
        "  if np.random.rand(1) > 0.5:\n",
        "      tx = np.random.randint(-10, 10)\n",
        "      ty = np.random.randint(-10, 10)\n",
        "      M = np.float32([[1, 0, tx], [0, 1, ty]])\n",
        "      image = cv2.warpAffine(image, M, (224, 224))\n",
        "\n",
        "  if np.random.rand(1) > 0.5:\n",
        "      value = np.random.randint(-30, 30)\n",
        "      hsv = cv2.cvtColor(image, cv2.COLOR_BGR2HSV)\n",
        "      h, s, v = cv2.split(hsv)\n",
        "      v = cv2.add(v, value)\n",
        "      v[v > 255] = 255\n",
        "      v[v < 0] = 0\n",
        "      final_hsv = cv2.merge((h, s, v))\n",
        "      image = cv2.cvtColor(final_hsv, cv2.COLOR_HSV2BGR)\n",
        "\n",
        "  image = cv2.resize(image, (224, 224))\n",
        "\n",
        "  return image"
      ],
      "metadata": {
        "id": "fkMyMMSyRQk7"
      },
      "execution_count": 369,
      "outputs": []
    },
    {
      "cell_type": "code",
      "source": [
        "augmented_images = []\n",
        "augmented_labels = []\n",
        "\n",
        "augmentation_factor = 5\n",
        "\n",
        "for img, label in zip(X_array, y_array):\n",
        "  for _ in range(augmentation_factor):\n",
        "    augmented_image = data_augmentation(img)\n",
        "    augmented_images.append(augmented_image)\n",
        "    augmented_labels.append(label)\n",
        "\n",
        "augmented_images = np.array(augmented_images)\n",
        "augmented_labels = np.array(augmented_labels)\n",
        "unique_labels, label_counts = np.unique(augmented_labels, return_counts=True)\n",
        "min_samples_per_class = np.min(label_counts)\n",
        "\n",
        "balanced_augmented_images = []\n",
        "balanced_augmented_labels = []\n",
        "for label in unique_labels:\n",
        "  class_indices = np.where(augmented_labels == label)[0]\n",
        "  class_images = augmented_images[class_indices]\n",
        "  class_labels = augmented_labels[class_indices]\n",
        "\n",
        "  selected_indices = np.random.choice(len(class_images), min_samples_per_class, replace=False)\n",
        "  balanced_augmented_images.extend(class_images[selected_indices])\n",
        "  balanced_augmented_labels.extend(class_labels[selected_indices])\n",
        "\n",
        "balanced_augmented_images = np.array(balanced_augmented_images)\n",
        "balanced_augmented_labels = np.array(balanced_augmented_labels)\n",
        "\n",
        "unique_labels_balanced, counts_balanced = np.unique(balanced_augmented_labels, return_counts=True)\n",
        "for label, count in zip(unique_labels_balanced, counts_balanced):\n",
        "  print(f\"Label {label}: {count} samples\")"
      ],
      "metadata": {
        "id": "4RKqqhNhaz-m",
        "colab": {
          "base_uri": "https://localhost:8080/"
        },
        "outputId": "33c09db1-b238-41bf-ca44-43583b43ce96"
      },
      "execution_count": 370,
      "outputs": [
        {
          "output_type": "stream",
          "name": "stdout",
          "text": [
            "Label 0: 765 samples\n",
            "Label 1: 765 samples\n"
          ]
        }
      ]
    },
    {
      "cell_type": "code",
      "source": [
        "X = balanced_augmented_images\n",
        "y = balanced_augmented_labels\n",
        "\n",
        "print(\"Original number of images:\", len(X_array))\n",
        "print(\"Augmented number of images:\", len(X))"
      ],
      "metadata": {
        "id": "VkCpbg0lPLsl",
        "colab": {
          "base_uri": "https://localhost:8080/"
        },
        "outputId": "183585a2-6c0d-40bc-ca7f-8e41cafc1764"
      },
      "execution_count": 371,
      "outputs": [
        {
          "output_type": "stream",
          "name": "stdout",
          "text": [
            "Original number of images: 378\n",
            "Augmented number of images: 1530\n"
          ]
        }
      ]
    },
    {
      "cell_type": "markdown",
      "source": [
        "Convert to Tensor"
      ],
      "metadata": {
        "id": "ZXnh1QXWS8uG"
      }
    },
    {
      "cell_type": "code",
      "source": [
        "X = torch.tensor(X, dtype=torch.float32).permute(0, 3, 1, 2)\n",
        "y = torch.tensor(y, dtype=torch.long)"
      ],
      "metadata": {
        "id": "zijsTlPhS-ST"
      },
      "execution_count": 372,
      "outputs": []
    },
    {
      "cell_type": "markdown",
      "source": [
        "Train-Test Split"
      ],
      "metadata": {
        "id": "Pp-aJMIeUSmB"
      }
    },
    {
      "cell_type": "code",
      "source": [
        "X_train, X_test, y_train, y_test = train_test_split(X, y, train_size=0.8, test_size=0.2, random_state=42)\n",
        "X_train = X_train.to(device)\n",
        "y_train = y_train.to(device)\n",
        "X_test = X_test.to(device)\n",
        "y_test = y_test.to(device)"
      ],
      "metadata": {
        "id": "4PPbfYcqUPLb"
      },
      "execution_count": 373,
      "outputs": []
    },
    {
      "cell_type": "markdown",
      "source": [
        "Load ResNet18"
      ],
      "metadata": {
        "id": "UXvI_qfKUlNw"
      }
    },
    {
      "cell_type": "code",
      "source": [
        "baseModel = torch.hub.load('pytorch/vision:v0.10.0', 'resnet18', pretrained=True)"
      ],
      "metadata": {
        "id": "aNpSQfGmUnOW",
        "colab": {
          "base_uri": "https://localhost:8080/"
        },
        "outputId": "81998ad4-be62-4007-cc13-de8c5e8d3184"
      },
      "execution_count": 374,
      "outputs": [
        {
          "output_type": "stream",
          "name": "stderr",
          "text": [
            "Using cache found in /root/.cache/torch/hub/pytorch_vision_v0.10.0\n",
            "/usr/local/lib/python3.10/dist-packages/torchvision/models/_utils.py:208: UserWarning: The parameter 'pretrained' is deprecated since 0.13 and may be removed in the future, please use 'weights' instead.\n",
            "  warnings.warn(\n",
            "/usr/local/lib/python3.10/dist-packages/torchvision/models/_utils.py:223: UserWarning: Arguments other than a weight enum or `None` for 'weights' are deprecated since 0.13 and may be removed in the future. The current behavior is equivalent to passing `weights=ResNet18_Weights.IMAGENET1K_V1`. You can also use `weights=ResNet18_Weights.DEFAULT` to get the most up-to-date weights.\n",
            "  warnings.warn(msg)\n"
          ]
        }
      ]
    },
    {
      "cell_type": "markdown",
      "source": [
        "Create Model"
      ],
      "metadata": {
        "id": "u9tKeaoIWYak"
      }
    },
    {
      "cell_type": "code",
      "source": [
        "baseModel.fc = nn.Sequential(nn.Linear(512, 256), nn.Dropout(p=0.5), nn.Linear(256, 1))\n",
        "model_resnet18_classification = baseModel"
      ],
      "metadata": {
        "id": "jl6ACZPNWWIW"
      },
      "execution_count": 375,
      "outputs": []
    },
    {
      "cell_type": "markdown",
      "source": [
        "Train Data"
      ],
      "metadata": {
        "id": "FNflwO5eWjbr"
      }
    },
    {
      "cell_type": "code",
      "source": [
        "X_train, X_val, y_train, y_val = train_test_split(X_train, y_train, train_size=0.9, test_size=0.1, random_state=42)\n",
        "\n",
        "epochs = 50\n",
        "batch_size = 16\n",
        "loss_function = nn.BCEWithLogitsLoss()\n",
        "num_batches_train = (len(X_train) + batch_size - 1) // batch_size\n",
        "num_batches_val = (len(X_val) + batch_size - 1) // batch_size\n",
        "\n",
        "optimizer = optim.Adam(model_resnet18_classification.parameters(), lr=0.001)\n",
        "scheduler = ReduceLROnPlateau(optimizer, mode='min', factor=0.1, patience=10, verbose=True)\n",
        "\n",
        "train_losses = []\n",
        "val_losses = []\n",
        "\n",
        "for epoch in range(epochs):\n",
        "\n",
        "  model_resnet18_classification.train().to(device)\n",
        "  train_loss = 0\n",
        "\n",
        "  for i in range(num_batches_train):\n",
        "    batch_inputs = X_train[i * batch_size:(i + 1) * batch_size]\n",
        "    batch_labels = y_train[i * batch_size:(i + 1) * batch_size].unsqueeze(1).float().to(device)\n",
        "\n",
        "    optimizer.zero_grad()\n",
        "    outputs = model_resnet18_classification(batch_inputs)\n",
        "    loss = loss_function(outputs, batch_labels)\n",
        "    loss.backward()\n",
        "    optimizer.step()\n",
        "    train_loss += loss.item()\n",
        "\n",
        "  epoch_train_loss = train_loss / num_batches_train\n",
        "  train_losses.append(epoch_train_loss)\n",
        "\n",
        "  model_resnet18_classification.eval().to(device)\n",
        "  val_loss = 0\n",
        "  all_labels = []\n",
        "  all_outputs = []\n",
        "\n",
        "  with torch.no_grad():\n",
        "    for j in range(num_batches_val):\n",
        "      batch_inputs = X_val[j * batch_size:(j + 1) * batch_size]\n",
        "      batch_labels = y_val[j * batch_size:(j + 1) * batch_size].unsqueeze(1).float().to(device)\n",
        "\n",
        "      outputs = model_resnet18_classification(batch_inputs)\n",
        "      loss = loss_function(outputs, batch_labels)\n",
        "      val_loss += loss.item()\n",
        "      all_labels.extend(batch_labels.cpu().numpy())\n",
        "      all_outputs.extend(outputs.cpu().numpy().argmax(axis=1))\n",
        "\n",
        "    epoch_val_loss = val_loss / num_batches_val\n",
        "    val_losses.append(epoch_val_loss)\n",
        "    scheduler.step(val_loss)\n",
        "\n",
        "  epoch_train_loss = train_loss / num_batches_train\n",
        "\n",
        "  print(f'epoch {epoch+1} Train Loss: {train_loss:.6f}, Val Loss: {val_loss:.6f}')"
      ],
      "metadata": {
        "id": "lIABGCbLWkpz",
        "outputId": "d3d03c24-5d50-4729-ddf8-f244c28251c3",
        "colab": {
          "base_uri": "https://localhost:8080/"
        }
      },
      "execution_count": 376,
      "outputs": [
        {
          "output_type": "stream",
          "name": "stderr",
          "text": [
            "/usr/local/lib/python3.10/dist-packages/torch/optim/lr_scheduler.py:28: UserWarning: The verbose parameter is deprecated. Please use get_last_lr() to access the learning rate.\n",
            "  warnings.warn(\"The verbose parameter is deprecated. Please use get_last_lr() \"\n"
          ]
        },
        {
          "output_type": "stream",
          "name": "stdout",
          "text": [
            "epoch 1 Train Loss: 7.773089, Val Loss: 0.017604\n",
            "epoch 2 Train Loss: 2.911221, Val Loss: 0.051411\n",
            "epoch 3 Train Loss: 2.885206, Val Loss: 0.044972\n",
            "epoch 4 Train Loss: 0.352479, Val Loss: 0.009928\n",
            "epoch 5 Train Loss: 0.735974, Val Loss: 0.000264\n",
            "epoch 6 Train Loss: 0.007934, Val Loss: 0.000184\n",
            "epoch 7 Train Loss: 0.005084, Val Loss: 0.000153\n",
            "epoch 8 Train Loss: 0.003828, Val Loss: 0.000122\n",
            "epoch 9 Train Loss: 0.003018, Val Loss: 0.000108\n",
            "epoch 10 Train Loss: 0.002515, Val Loss: 0.000094\n",
            "epoch 11 Train Loss: 0.001912, Val Loss: 0.000086\n",
            "epoch 12 Train Loss: 0.002021, Val Loss: 0.000079\n",
            "epoch 13 Train Loss: 0.001480, Val Loss: 0.000069\n",
            "epoch 14 Train Loss: 0.001302, Val Loss: 0.000059\n",
            "epoch 15 Train Loss: 0.001574, Val Loss: 0.000040\n",
            "epoch 16 Train Loss: 0.001212, Val Loss: 0.000036\n",
            "epoch 17 Train Loss: 0.001002, Val Loss: 0.000034\n",
            "epoch 18 Train Loss: 0.000797, Val Loss: 0.000033\n",
            "epoch 19 Train Loss: 0.000746, Val Loss: 0.000030\n",
            "epoch 20 Train Loss: 0.000785, Val Loss: 0.000029\n",
            "epoch 21 Train Loss: 0.000521, Val Loss: 0.000028\n",
            "epoch 22 Train Loss: 0.000691, Val Loss: 0.000024\n",
            "epoch 23 Train Loss: 0.000557, Val Loss: 0.000023\n",
            "epoch 24 Train Loss: 0.000570, Val Loss: 0.000021\n",
            "epoch 25 Train Loss: 0.000472, Val Loss: 0.000020\n",
            "epoch 26 Train Loss: 0.000447, Val Loss: 0.000020\n",
            "epoch 27 Train Loss: 0.000420, Val Loss: 0.000019\n",
            "epoch 28 Train Loss: 0.000332, Val Loss: 0.000017\n",
            "epoch 29 Train Loss: 0.000388, Val Loss: 0.000017\n",
            "epoch 30 Train Loss: 0.000339, Val Loss: 0.000016\n",
            "epoch 31 Train Loss: 0.000287, Val Loss: 0.000016\n",
            "epoch 32 Train Loss: 0.000296, Val Loss: 0.000016\n",
            "epoch 33 Train Loss: 0.000257, Val Loss: 0.000015\n",
            "epoch 34 Train Loss: 0.000255, Val Loss: 0.000014\n",
            "epoch 35 Train Loss: 0.000226, Val Loss: 0.000013\n",
            "epoch 36 Train Loss: 0.000266, Val Loss: 0.000013\n",
            "epoch 37 Train Loss: 0.000229, Val Loss: 0.000012\n",
            "epoch 38 Train Loss: 0.000162, Val Loss: 0.000011\n",
            "epoch 39 Train Loss: 0.000224, Val Loss: 0.000011\n",
            "epoch 40 Train Loss: 0.000146, Val Loss: 0.000010\n",
            "epoch 41 Train Loss: 0.000199, Val Loss: 0.000009\n",
            "epoch 42 Train Loss: 0.000137, Val Loss: 0.000008\n",
            "epoch 43 Train Loss: 0.000146, Val Loss: 0.000008\n",
            "epoch 44 Train Loss: 0.000136, Val Loss: 0.000008\n",
            "epoch 45 Train Loss: 0.000137, Val Loss: 0.000007\n",
            "epoch 46 Train Loss: 0.000115, Val Loss: 0.000006\n",
            "epoch 47 Train Loss: 0.000112, Val Loss: 0.000006\n",
            "epoch 48 Train Loss: 0.000118, Val Loss: 0.000005\n",
            "epoch 49 Train Loss: 0.000113, Val Loss: 0.000005\n",
            "epoch 50 Train Loss: 0.000103, Val Loss: 0.000004\n"
          ]
        }
      ]
    },
    {
      "cell_type": "code",
      "source": [
        "plt.figure(figsize=(14, 10))\n",
        "\n",
        "plt.subplot(2, 2, 1)\n",
        "plt.plot(range(1, epochs + 1), train_losses, label='Train Loss')\n",
        "plt.plot(range(1, epochs + 1), val_losses, label='Validation Loss')\n",
        "plt.xlabel('Epoch')\n",
        "plt.ylabel('Loss')\n",
        "plt.title('Loss per Epoch')\n",
        "plt.legend()\n",
        "plt.grid(True)"
      ],
      "metadata": {
        "id": "hS8XXWE5b1iw",
        "colab": {
          "base_uri": "https://localhost:8080/",
          "height": 452
        },
        "outputId": "ceef57f2-83a1-4f18-ca7d-e4058299ff6a"
      },
      "execution_count": 377,
      "outputs": [
        {
          "output_type": "display_data",
          "data": {
            "text/plain": [
              "<Figure size 1400x1000 with 1 Axes>"
            ],
            "image/png": "[encoded data removed]"
          },
          "metadata": {}
        }
      ]
    },
    {
      "cell_type": "markdown",
      "source": [
        "Save Model"
      ],
      "metadata": {
        "id": "jEcyg134W7ck"
      }
    },
    {
      "cell_type": "code",
      "source": [
        "torch.save(model_resnet18_classification.state_dict(), 'model_resnet18_classification.pth')"
      ],
      "metadata": {
        "id": "Oi9yBOVKW0Sl"
      },
      "execution_count": 378,
      "outputs": []
    },
    {
      "cell_type": "markdown",
      "source": [
        "Load Model"
      ],
      "metadata": {
        "id": "JnMFBRE3W5iq"
      }
    },
    {
      "cell_type": "code",
      "source": [
        "baseModel = torch.hub.load('pytorch/vision:v0.10.0', 'resnet18', pretrained=True)\n",
        "baseModel.fc = nn.Sequential(nn.Linear(512, 256), nn.Dropout(p=0.5), nn.Linear(256, 1))\n",
        "model_resnet18_classification = baseModel\n",
        "model_resnet18_classification = model_resnet18_classification.to(device).eval()\n",
        "model_resnet18_classification.load_state_dict(torch.load('model_resnet18_classification.pth'))"
      ],
      "metadata": {
        "id": "BE1N_wHAW5A4",
        "colab": {
          "base_uri": "https://localhost:8080/"
        },
        "outputId": "6eb1f73e-3bb2-45ba-c6c1-9b277a0a53d7"
      },
      "execution_count": 379,
      "outputs": [
        {
          "output_type": "stream",
          "name": "stderr",
          "text": [
            "Using cache found in /root/.cache/torch/hub/pytorch_vision_v0.10.0\n"
          ]
        },
        {
          "output_type": "execute_result",
          "data": {
            "text/plain": [
              "<All keys matched successfully>"
            ]
          },
          "metadata": {},
          "execution_count": 379
        }
      ]
    },
    {
      "cell_type": "markdown",
      "source": [
        "Model Evaluation"
      ],
      "metadata": {
        "id": "ZQag7C5RWpfP"
      }
    },
    {
      "cell_type": "code",
      "source": [
        "model_resnet18_classification.eval().to(device)\n",
        "\n",
        "num_batches_test = (len(X_test) + batch_size - 1) // batch_size\n",
        "actuals = []\n",
        "predictions = []\n",
        "\n",
        "with torch.no_grad():\n",
        "  for i in range(num_batches_test):\n",
        "    batch_inputs_test = X_test[i * batch_size:(i + 1) * batch_size]\n",
        "    batch_labels_test = y_test[i * batch_size:(i + 1) * batch_size].unsqueeze(1).float().to(device)\n",
        "\n",
        "    outputs = model_resnet18_classification(batch_inputs_test)\n",
        "    probabilities = torch.sigmoid(outputs)\n",
        "    predicted_labels = (probabilities > 0.5).float()\n",
        "\n",
        "    actuals.extend(batch_labels_test.cpu().numpy())\n",
        "    predictions.extend(predicted_labels.cpu().numpy())\n",
        "\n",
        "actuals = np.array(actuals)\n",
        "predictions = np.array(predictions)\n",
        "\n",
        "accuracy = accuracy_score(actuals, predictions)\n",
        "precision = precision_score(actuals, predictions, average='binary')\n",
        "recall = recall_score(actuals, predictions, average='binary')\n",
        "f1 = f1_score(actuals, predictions, average='binary')\n",
        "\n",
        "print('Accuracy:', accuracy)\n",
        "print('Precision:', precision)\n",
        "print('Recall:', recall)\n",
        "print('F1 Score:', f1)"
      ],
      "metadata": {
        "id": "K3QFv4PYWu85",
        "colab": {
          "base_uri": "https://localhost:8080/"
        },
        "outputId": "e223eb21-c68d-4f52-cc93-c678552d0b61"
      },
      "execution_count": 380,
      "outputs": [
        {
          "output_type": "stream",
          "name": "stdout",
          "text": [
            "Accuracy: 0.9967320261437909\n",
            "Precision: 0.9938650306748467\n",
            "Recall: 1.0\n",
            "F1 Score: 0.9969230769230769\n"
          ]
        }
      ]
    },
    {
      "cell_type": "markdown",
      "source": [
        "Test on Input Image"
      ],
      "metadata": {
        "id": "tVV2uJnOWL6M"
      }
    },
    {
      "cell_type": "code",
      "source": [
        "image_path = '/content/Test.jpg'\n",
        "\n",
        "class_names = ['class 0: Stop', 'class 1: Priority']\n",
        "\n",
        "image = cv2.imread(image_path)\n",
        "image = cv2.resize(image, (224, 224))\n",
        "image = cv2.cvtColor(image, cv2.COLOR_BGR2RGB)\n",
        "image = torch.tensor(image, dtype=torch.float32).permute(2, 0, 1)\n",
        "image = image.unsqueeze(0)\n",
        "image /= 255.0\n",
        "\n",
        "model_resnet18_classification.eval().to(device)\n",
        "with torch.no_grad():\n",
        "  outputs = model_resnet18_classification(image.to(device))\n",
        "  predicted_prob = torch.sigmoid(outputs).item()\n",
        "\n",
        "if predicted_prob >= 0.5:\n",
        "  class_name = class_names[1]\n",
        "else:\n",
        "  class_name = class_names[0]\n",
        "\n",
        "plt.imshow(image.squeeze(0).permute(1, 2, 0).numpy())\n",
        "plt.axis('off')\n",
        "plt.show()\n",
        "\n",
        "print('Predicted Class: ', class_name)"
      ],
      "metadata": {
        "id": "bSuvufMfWPMy",
        "colab": {
          "base_uri": "https://localhost:8080/",
          "height": 424
        },
        "outputId": "a345f21a-e07d-4dde-c018-a5ccb92bffbb"
      },
      "execution_count": 382,
      "outputs": [
        {
          "output_type": "display_data",
          "data": {
            "text/plain": [
              "<Figure size 640x480 with 1 Axes>"
            ],
            "image/png": "[encoded data removed]"
          },
          "metadata": {}
        },
        {
          "output_type": "stream",
          "name": "stdout",
          "text": [
            "Predicted Class:  class 1: Priority\n"
          ]
        }
      ]
    }
  ]
}