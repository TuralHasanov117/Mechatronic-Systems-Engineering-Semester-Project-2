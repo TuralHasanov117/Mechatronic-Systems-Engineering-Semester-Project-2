{
  "nbformat": 4,
  "nbformat_minor": 0,
  "metadata": {
    "colab": {
      "provenance": [],
      "gpuType": "T4"
    },
    "kernelspec": {
      "name": "python3",
      "display_name": "Python 3"
    },
    "language_info": {
      "name": "python"
    },
    "accelerator": "GPU"
  },
  "cells": [
    {
      "cell_type": "markdown",
      "source": [
        "**Task 2**"
      ],
      "metadata": {
        "id": "0cm4Xu6fL6Dj"
      }
    },
    {
      "cell_type": "code",
      "execution_count": 207,
      "metadata": {
        "id": "yr2uxbZmKqQR"
      },
      "outputs": [],
      "source": [
        "from google.colab import drive\n",
        "import numpy as np\n",
        "import pandas as pd\n",
        "import os\n",
        "import glob\n",
        "import cv2\n",
        "from sklearn.model_selection import train_test_split\n",
        "from sklearn.metrics import accuracy_score, f1_score, precision_score, recall_score\n",
        "import torch\n",
        "import torch.nn as nn\n",
        "import torch.optim as optim\n",
        "import torchvision.models as models\n",
        "from torch.utils.data import DataLoader, TensorDataset\n",
        "from torch.optim.lr_scheduler import ReduceLROnPlateau\n",
        "import matplotlib.pyplot as plt"
      ]
    },
    {
      "cell_type": "markdown",
      "source": [
        "Check Cuda Availability"
      ],
      "metadata": {
        "id": "5bAVqEDJLwpP"
      }
    },
    {
      "cell_type": "code",
      "source": [
        "torch.cuda.is_available()\n",
        "device = torch.device(\"cuda:0\" if torch.cuda.is_available() else \"cpu\")\n",
        "print(device)"
      ],
      "metadata": {
        "id": "-BYdL8L5LwFM",
        "colab": {
          "base_uri": "https://localhost:8080/"
        },
        "outputId": "d0b55c39-ed6a-4687-aa4c-915595323703"
      },
      "execution_count": 189,
      "outputs": [
        {
          "output_type": "stream",
          "name": "stdout",
          "text": [
            "cuda:0\n"
          ]
        }
      ]
    },
    {
      "cell_type": "markdown",
      "source": [
        "Mount google drive"
      ],
      "metadata": {
        "id": "xn_JbiEcL2B4"
      }
    },
    {
      "cell_type": "code",
      "source": [
        "drive.mount('/content/drive')"
      ],
      "metadata": {
        "id": "5p2SZm6SL3hY",
        "colab": {
          "base_uri": "https://localhost:8080/"
        },
        "outputId": "7182678c-c259-4468-dc6b-4ed15dfa718e"
      },
      "execution_count": 190,
      "outputs": [
        {
          "output_type": "stream",
          "name": "stdout",
          "text": [
            "Drive already mounted at /content/drive; to attempt to forcibly remount, call drive.mount(\"/content/drive\", force_remount=True).\n"
          ]
        }
      ]
    },
    {
      "cell_type": "markdown",
      "source": [
        "Define data path"
      ],
      "metadata": {
        "id": "9itZJoP9MDlY"
      }
    },
    {
      "cell_type": "code",
      "source": [
        "class_priority_path = '/content/drive/My Drive/data/Priority'\n",
        "class_stop_path = '/content/drive/My Drive/data/Stop'"
      ],
      "metadata": {
        "id": "lCaB6lJ2MEbk"
      },
      "execution_count": 191,
      "outputs": []
    },
    {
      "cell_type": "code",
      "source": [
        "priority_images = [image for image in os.listdir(class_priority_path) if image.endswith('.jpg')]\n",
        "stop_images = [image for image in os.listdir(class_stop_path) if image.endswith('.jpg')]\n",
        "labeled_stop_images_full_path = [(os.path.join(class_stop_path, image), 0) for image in stop_images]\n",
        "labeled_priority_images_full_path = [(os.path.join(class_priority_path, image), 1) for image in priority_images]\n",
        "data = labeled_priority_images_full_path + labeled_stop_images_full_path"
      ],
      "metadata": {
        "id": "OJ4iCWMqSK8N"
      },
      "execution_count": 192,
      "outputs": []
    },
    {
      "cell_type": "markdown",
      "source": [
        "Load Data to x and y (features and label)"
      ],
      "metadata": {
        "id": "bWBD7JnOMLgY"
      }
    },
    {
      "cell_type": "code",
      "source": [
        "X_array = []\n",
        "y_array = []\n",
        "\n",
        "for item in data:\n",
        "  x_image = cv2.imread(item[0])\n",
        "  x_image = cv2.resize(x_image, (224, 224))\n",
        "  X_array.append(x_image)\n",
        "  y_image = item[1]\n",
        "  y_array.append(y_image)\n",
        "\n",
        "X_array = np.array(X_array)\n",
        "y_array = np.array(y_array)"
      ],
      "metadata": {
        "id": "Uh6WS55eMe4S"
      },
      "execution_count": 193,
      "outputs": []
    },
    {
      "cell_type": "markdown",
      "source": [
        "Data Augmentation"
      ],
      "metadata": {
        "id": "-3JGl8aRRR4Q"
      }
    },
    {
      "cell_type": "code",
      "source": [
        "def data_augmentation(image):\n",
        "\n",
        "  if np.random.rand(1) > 0.5:\n",
        "    image = cv2.flip(image, 1)\n",
        "\n",
        "  image = cv2.resize(image, (224, 224))\n",
        "\n",
        "  return image"
      ],
      "metadata": {
        "id": "fkMyMMSyRQk7"
      },
      "execution_count": 194,
      "outputs": []
    },
    {
      "cell_type": "code",
      "source": [
        "X = np.array([data_augmentation(img) for img in X_array])\n",
        "y = y_array"
      ],
      "metadata": {
        "id": "VkCpbg0lPLsl"
      },
      "execution_count": 195,
      "outputs": []
    },
    {
      "cell_type": "markdown",
      "source": [
        "Convert to Tensor"
      ],
      "metadata": {
        "id": "ZXnh1QXWS8uG"
      }
    },
    {
      "cell_type": "code",
      "source": [
        "X = torch.tensor(X, dtype=torch.float32).permute(0, 3, 1, 2)\n",
        "y = torch.tensor(y, dtype=torch.long)"
      ],
      "metadata": {
        "id": "zijsTlPhS-ST"
      },
      "execution_count": 196,
      "outputs": []
    },
    {
      "cell_type": "markdown",
      "source": [
        "Train-Test Split"
      ],
      "metadata": {
        "id": "Pp-aJMIeUSmB"
      }
    },
    {
      "cell_type": "code",
      "source": [
        "X_train, X_test, y_train, y_test = train_test_split(X, y, train_size=0.9, test_size=0.1, random_state=122)\n",
        "X_train = X_train.to(device)\n",
        "y_train = y_train.to(device)\n",
        "X_test = X_test.to(device)\n",
        "y_test = y_test.to(device)"
      ],
      "metadata": {
        "id": "4PPbfYcqUPLb"
      },
      "execution_count": 197,
      "outputs": []
    },
    {
      "cell_type": "markdown",
      "source": [
        "Load ResNet18"
      ],
      "metadata": {
        "id": "UXvI_qfKUlNw"
      }
    },
    {
      "cell_type": "code",
      "source": [
        "baseModel = torch.hub.load('pytorch/vision:v0.10.0', 'resnet18', pretrained=True)\n",
        "baseModel.fc = nn.Linear(512, 512)"
      ],
      "metadata": {
        "id": "aNpSQfGmUnOW",
        "colab": {
          "base_uri": "https://localhost:8080/"
        },
        "outputId": "939fd341-695c-42ca-91d2-4b3502d64a94"
      },
      "execution_count": 198,
      "outputs": [
        {
          "output_type": "stream",
          "name": "stderr",
          "text": [
            "Using cache found in /root/.cache/torch/hub/pytorch_vision_v0.10.0\n",
            "/usr/local/lib/python3.10/dist-packages/torchvision/models/_utils.py:208: UserWarning: The parameter 'pretrained' is deprecated since 0.13 and may be removed in the future, please use 'weights' instead.\n",
            "  warnings.warn(\n",
            "/usr/local/lib/python3.10/dist-packages/torchvision/models/_utils.py:223: UserWarning: Arguments other than a weight enum or `None` for 'weights' are deprecated since 0.13 and may be removed in the future. The current behavior is equivalent to passing `weights=ResNet18_Weights.IMAGENET1K_V1`. You can also use `weights=ResNet18_Weights.DEFAULT` to get the most up-to-date weights.\n",
            "  warnings.warn(msg)\n"
          ]
        }
      ]
    },
    {
      "cell_type": "markdown",
      "source": [
        "Create Model"
      ],
      "metadata": {
        "id": "u9tKeaoIWYak"
      }
    },
    {
      "cell_type": "code",
      "source": [
        "hidden_units = 128\n",
        "output_units = 2\n",
        "activation_function = nn.Sigmoid()"
      ],
      "metadata": {
        "id": "WoNIdUtoWWw4"
      },
      "execution_count": 199,
      "outputs": []
    },
    {
      "cell_type": "code",
      "source": [
        "headModel = nn.AdaptiveAvgPool2d((1,1))\n",
        "hidden_layer = nn.Linear(512, hidden_units)\n",
        "dropout_layer = nn.Dropout(p=0.5)\n",
        "output_layer = nn.Linear(hidden_units, output_units)\n",
        "model_resnet18_classification = nn.Sequential(baseModel, hidden_layer, activation_function, output_layer)"
      ],
      "metadata": {
        "id": "jl6ACZPNWWIW"
      },
      "execution_count": 200,
      "outputs": []
    },
    {
      "cell_type": "markdown",
      "source": [
        "Train Data"
      ],
      "metadata": {
        "id": "FNflwO5eWjbr"
      }
    },
    {
      "cell_type": "code",
      "source": [
        "X_train, X_val, y_train, y_val = train_test_split(X_train, y_train,train_size=0.8, test_size=0.2, random_state=42)\n",
        "\n",
        "epochs = 50\n",
        "batch_size = 16\n",
        "loss_function = nn.CrossEntropyLoss()\n",
        "num_batches_train = (len(X_train) + batch_size - 1) // batch_size\n",
        "num_batches_val = (len(X_val) + batch_size - 1) // batch_size\n",
        "\n",
        "optimizer = optim.Adam(model_resnet18_classification.parameters(), lr=0.001)\n",
        "scheduler = ReduceLROnPlateau(optimizer, mode='min', factor=0.1, patience=10, verbose=True)\n",
        "\n",
        "for epoch in range(epochs):\n",
        "\n",
        "  model_resnet18_classification.train().to(device)\n",
        "  train_loss = 0\n",
        "\n",
        "  for i in range(num_batches_train):\n",
        "    batch_inputs = X_train[i * batch_size:(i + 1) * batch_size]\n",
        "    batch_labels = y_train[i * batch_size:(i + 1) * batch_size]\n",
        "\n",
        "    optimizer.zero_grad()\n",
        "    outputs = model_resnet18_classification(batch_inputs)\n",
        "    loss = loss_function(outputs, batch_labels)\n",
        "    loss.backward()\n",
        "    optimizer.step()\n",
        "    train_loss += loss.item()\n",
        "\n",
        "  epoch_loss = train_loss / num_batches_train\n",
        "\n",
        "  model_resnet18_classification.eval().to(device)\n",
        "  val_loss = 0\n",
        "\n",
        "  with torch.no_grad():\n",
        "    for j in range(num_batches_val):\n",
        "      batch_inputs = X_val[j * batch_size:(j + 1) * batch_size]\n",
        "      batch_labels = y_val[j * batch_size:(j + 1) * batch_size]\n",
        "\n",
        "      outputs = model_resnet18_classification(batch_inputs)\n",
        "      loss = loss_function(outputs, batch_labels)\n",
        "      val_loss += loss.item()\n",
        "\n",
        "    val_loss /= num_batches_val\n",
        "    scheduler.step(val_loss)\n",
        "\n",
        "  epoch_train_loss = train_loss / num_batches_train\n",
        "\n",
        "  print(f'epoch {epoch+1} Train Loss: {train_loss:.6f}, Val Loss: {val_loss:.6f}')"
      ],
      "metadata": {
        "id": "lIABGCbLWkpz",
        "outputId": "6dd14cd0-9275-4af4-f3ea-b10893b55bce",
        "colab": {
          "base_uri": "https://localhost:8080/"
        }
      },
      "execution_count": 201,
      "outputs": [
        {
          "output_type": "stream",
          "name": "stderr",
          "text": [
            "/usr/local/lib/python3.10/dist-packages/torch/optim/lr_scheduler.py:28: UserWarning: The verbose parameter is deprecated. Please use get_last_lr() to access the learning rate.\n",
            "  warnings.warn(\"The verbose parameter is deprecated. Please use get_last_lr() \"\n"
          ]
        },
        {
          "output_type": "stream",
          "name": "stdout",
          "text": [
            "epoch 1 Train Loss: 5.976744, Val Loss: 1.910841\n",
            "epoch 2 Train Loss: 1.578781, Val Loss: 0.026391\n",
            "epoch 3 Train Loss: 0.646245, Val Loss: 0.133658\n",
            "epoch 4 Train Loss: 3.306656, Val Loss: 0.586929\n",
            "epoch 5 Train Loss: 0.900740, Val Loss: 1.576293\n",
            "epoch 6 Train Loss: 0.703947, Val Loss: 0.718163\n",
            "epoch 7 Train Loss: 0.213284, Val Loss: 0.017050\n",
            "epoch 8 Train Loss: 0.363561, Val Loss: 0.012306\n",
            "epoch 9 Train Loss: 0.488369, Val Loss: 0.047004\n",
            "epoch 10 Train Loss: 0.123801, Val Loss: 0.007894\n",
            "epoch 11 Train Loss: 0.071547, Val Loss: 0.003965\n",
            "epoch 12 Train Loss: 0.053476, Val Loss: 0.003146\n",
            "epoch 13 Train Loss: 0.046632, Val Loss: 0.002739\n",
            "epoch 14 Train Loss: 0.041490, Val Loss: 0.002446\n",
            "epoch 15 Train Loss: 0.037291, Val Loss: 0.002207\n",
            "epoch 16 Train Loss: 0.033772, Val Loss: 0.002006\n",
            "epoch 17 Train Loss: 0.030777, Val Loss: 0.001834\n",
            "epoch 18 Train Loss: 0.028200, Val Loss: 0.001684\n",
            "epoch 19 Train Loss: 0.025961, Val Loss: 0.001554\n",
            "epoch 20 Train Loss: 0.024001, Val Loss: 0.001439\n",
            "epoch 21 Train Loss: 0.022273, Val Loss: 0.001337\n",
            "epoch 22 Train Loss: 0.020739, Val Loss: 0.001247\n",
            "epoch 23 Train Loss: 0.019371, Val Loss: 0.001166\n",
            "epoch 24 Train Loss: 0.018143, Val Loss: 0.001093\n",
            "epoch 25 Train Loss: 0.017037, Val Loss: 0.001028\n",
            "epoch 26 Train Loss: 0.016037, Val Loss: 0.000968\n",
            "epoch 27 Train Loss: 0.015128, Val Loss: 0.000914\n",
            "epoch 28 Train Loss: 0.014299, Val Loss: 0.000865\n",
            "epoch 29 Train Loss: 0.013542, Val Loss: 0.000819\n",
            "epoch 30 Train Loss: 0.012846, Val Loss: 0.000778\n",
            "epoch 31 Train Loss: 0.012206, Val Loss: 0.000739\n",
            "epoch 32 Train Loss: 0.011616, Val Loss: 0.000704\n",
            "epoch 33 Train Loss: 0.011070, Val Loss: 0.000671\n",
            "epoch 34 Train Loss: 0.010564, Val Loss: 0.000641\n",
            "epoch 35 Train Loss: 0.010094, Val Loss: 0.000612\n",
            "epoch 36 Train Loss: 0.009656, Val Loss: 0.000586\n",
            "epoch 37 Train Loss: 0.009248, Val Loss: 0.000562\n",
            "epoch 38 Train Loss: 0.008866, Val Loss: 0.000538\n",
            "epoch 39 Train Loss: 0.008509, Val Loss: 0.000517\n",
            "epoch 40 Train Loss: 0.008174, Val Loss: 0.000497\n",
            "epoch 41 Train Loss: 0.007859, Val Loss: 0.000478\n",
            "epoch 42 Train Loss: 0.007563, Val Loss: 0.000460\n",
            "epoch 43 Train Loss: 0.007284, Val Loss: 0.000443\n",
            "epoch 44 Train Loss: 0.007021, Val Loss: 0.000427\n",
            "epoch 45 Train Loss: 0.006772, Val Loss: 0.000412\n",
            "epoch 46 Train Loss: 0.006537, Val Loss: 0.000398\n",
            "epoch 47 Train Loss: 0.006315, Val Loss: 0.000384\n",
            "epoch 48 Train Loss: 0.006104, Val Loss: 0.000371\n",
            "epoch 49 Train Loss: 0.005903, Val Loss: 0.000359\n",
            "epoch 50 Train Loss: 0.005713, Val Loss: 0.000348\n"
          ]
        }
      ]
    },
    {
      "cell_type": "markdown",
      "source": [
        "Save Model"
      ],
      "metadata": {
        "id": "jEcyg134W7ck"
      }
    },
    {
      "cell_type": "code",
      "source": [
        "torch.save(model_resnet18_classification.state_dict(), 'model_resnet18_classification.pth')"
      ],
      "metadata": {
        "id": "Oi9yBOVKW0Sl"
      },
      "execution_count": 202,
      "outputs": []
    },
    {
      "cell_type": "markdown",
      "source": [
        "Load Model"
      ],
      "metadata": {
        "id": "JnMFBRE3W5iq"
      }
    },
    {
      "cell_type": "code",
      "source": [
        "baseModel = torch.hub.load('pytorch/vision:v0.10.0', 'resnet18', pretrained=True)\n",
        "baseModel.fc = torch.nn.Linear(512, 512)\n",
        "headModel = torch.nn.AdaptiveAvgPool2d((1,1))\n",
        "hidden_layer = torch.nn.Linear(512, 128)\n",
        "dropout_layer = torch.nn.Dropout(p=0.5)\n",
        "output_layer = torch.nn.Linear(128, 2)\n",
        "model_resnet18_classification = torch.nn.Sequential(baseModel, hidden_layer, torch.nn.Sigmoid(), output_layer)\n",
        "model_resnet18_classification = model_resnet18_classification.to(device).eval()\n",
        "model_resnet18_classification.load_state_dict(torch.load('model_resnet18_classification.pth'))"
      ],
      "metadata": {
        "id": "BE1N_wHAW5A4",
        "colab": {
          "base_uri": "https://localhost:8080/"
        },
        "outputId": "6dd222a8-ec6f-46a0-8dd9-b7dc59f612e2"
      },
      "execution_count": 203,
      "outputs": [
        {
          "output_type": "stream",
          "name": "stderr",
          "text": [
            "Using cache found in /root/.cache/torch/hub/pytorch_vision_v0.10.0\n"
          ]
        },
        {
          "output_type": "execute_result",
          "data": {
            "text/plain": [
              "<All keys matched successfully>"
            ]
          },
          "metadata": {},
          "execution_count": 203
        }
      ]
    },
    {
      "cell_type": "markdown",
      "source": [
        "Model Evaluation"
      ],
      "metadata": {
        "id": "ZQag7C5RWpfP"
      }
    },
    {
      "cell_type": "code",
      "source": [
        "model_resnet18_classification.eval().to(device)\n",
        "\n",
        "num_batches_test = (len(X_test) + batch_size - 1) // batch_size\n",
        "actuals = []\n",
        "predictions = []\n",
        "\n",
        "with torch.no_grad():\n",
        "  for i in range(num_batches_test):\n",
        "    batch_inputs_test = X_test[i * batch_size:(i + 1) * batch_size]\n",
        "    batch_labels_test = y_test[i * batch_size:(i + 1) * batch_size]\n",
        "\n",
        "    outputs = model_resnet18_classification(batch_inputs_test)\n",
        "    _, predicted_labels = torch.max(outputs, 1)\n",
        "    actuals.append(batch_labels_test.cpu().numpy())\n",
        "    predictions.append(predicted_labels.cpu().numpy())\n",
        "\n",
        "actuals = np.concatenate(actuals, axis=0)\n",
        "predictions = np.concatenate(predictions, axis=0)\n",
        "\n",
        "accuracy = accuracy_score(actuals, predictions)\n",
        "precision = precision_score(actuals, predictions, average='weighted')\n",
        "recall = recall_score(actuals, predictions, average='weighted')\n",
        "f1 = f1_score(actuals, predictions, average='weighted')\n",
        "\n",
        "print('Accuracy:', accuracy)\n",
        "print('Precision:', precision)\n",
        "print('Recall:', recall)\n",
        "print('F1 Score:', f1)"
      ],
      "metadata": {
        "id": "K3QFv4PYWu85",
        "colab": {
          "base_uri": "https://localhost:8080/"
        },
        "outputId": "455e9db2-27a2-4b31-a4d4-cb654773bf48"
      },
      "execution_count": 204,
      "outputs": [
        {
          "output_type": "stream",
          "name": "stdout",
          "text": [
            "Accuracy: 1.0\n",
            "Precision: 1.0\n",
            "Recall: 1.0\n",
            "F1 Score: 1.0\n"
          ]
        }
      ]
    },
    {
      "cell_type": "markdown",
      "source": [
        "Test on Input Image"
      ],
      "metadata": {
        "id": "tVV2uJnOWL6M"
      }
    },
    {
      "cell_type": "code",
      "source": [
        "image_path = '/content/Test.jpg'\n",
        "\n",
        "class_names = ['class_0: Stop', 'class_1: Priority']\n",
        "\n",
        "image = cv2.imread(image_path)\n",
        "image = cv2.resize(image, (224, 224))\n",
        "image = cv2.cvtColor(image, cv2.COLOR_BGR2RGB)\n",
        "image = torch.tensor(image, dtype=torch.float32).permute(2, 0, 1)\n",
        "image = image.unsqueeze(0)\n",
        "image /= 255.0\n",
        "\n",
        "model_resnet18_classification.eval().to(device)\n",
        "with torch.no_grad():\n",
        "    outputs = model_resnet18_classification(image.to(device))\n",
        "    _, predicted_label = torch.max(outputs, 1)\n",
        "\n",
        "class_index = predicted_label.item()\n",
        "class_name = class_names[class_index]\n",
        "\n",
        "plt.imshow(image.squeeze(0).permute(1, 2, 0).numpy())\n",
        "plt.axis('off')\n",
        "plt.show()\n",
        "\n",
        "print(\"\\n \", class_name)"
      ],
      "metadata": {
        "colab": {
          "base_uri": "https://localhost:8080/",
          "height": 442
        },
        "id": "bSuvufMfWPMy",
        "outputId": "90677008-e0eb-4687-c764-bf8095faa728"
      },
      "execution_count": 221,
      "outputs": [
        {
          "output_type": "display_data",
          "data": {
            "text/plain": [
              "<Figure size 640x480 with 1 Axes>"
            ],
            "image/png": "[encoded data removed]"
          },
          "metadata": {}
        },
        {
          "output_type": "stream",
          "name": "stdout",
          "text": [
            "\n",
            "  class_1: Priority\n"
          ]
        }
      ]
    }
  ]
}